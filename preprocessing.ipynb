{
 "cells": [
  {
   "cell_type": "markdown",
   "metadata": {},
   "source": [
    "### Data Files Path Preparation"
   ]
  },
  {
   "cell_type": "code",
   "execution_count": null,
   "metadata": {},
   "outputs": [],
   "source": [
    "import os\n",
    "from os import listdir\n",
    "from os.path import isfile, join\n",
    "\n",
    "# Modify this path to your own MAESTRO dataset\n",
    "maestro_dir = '/home/scpark/ai/datasets/maestro-v2.0.0'\n",
    "\n",
    "data_dirs = []\n",
    "for year in ['2004', '2006', '2008', '2009', '2011', '2013', '2014', '2015', '2017', '2018']:\n",
    "    data_dirs.append(maestro_dir + '/' + str(year))\n",
    "\n",
    "data_files = []\n",
    "for data_dir in data_dirs:\n",
    "    data_files += [join(data_dir, f) for f in listdir(data_dir) if isfile(join(data_dir, f)) if 'midi' in f]\n",
    "\n",
    "data_files.sort()\n",
    "\n",
    "print('total midi files : ', len(data_files))"
   ]
  },
  {
   "cell_type": "markdown",
   "metadata": {},
   "source": [
    "### Event Extract from Midi File"
   ]
  },
  {
   "cell_type": "code",
   "execution_count": null,
   "metadata": {
    "scrolled": true
   },
   "outputs": [],
   "source": [
    "import mido\n",
    "import numpy as np\n",
    "\n",
    "\n",
    "def get_eventlist(data_file):\n",
    "    ON = 1\n",
    "    OFF = 0\n",
    "    CC = 2\n",
    "\n",
    "    midi = mido.MidiFile(data_file)\n",
    "\n",
    "    current_time = 0\n",
    "    eventlist = []\n",
    "    cc = False\n",
    "    for msg in midi:\n",
    "        #print(msg)\n",
    "        current_time += msg.time\n",
    "\n",
    "         # NOTE ON CASE\n",
    "        if msg.type is 'note_on' and msg.velocity > 0:\n",
    "            event = [current_time, ON, msg.note, msg.velocity]\n",
    "            eventlist.append(event)\n",
    "\n",
    "         # NOTE OFF CASE        \n",
    "        elif msg.type is 'note_off' or (msg.type is 'note_on' and msg.velocity == 0):\n",
    "            event = [current_time, OFF, msg.note, msg.velocity]\n",
    "            eventlist.append(event)\n",
    "            \n",
    "        if msg.type is 'control_change':\n",
    "            \n",
    "            if msg.control != 64:\n",
    "                continue\n",
    "            \n",
    "            if cc == False and msg.value > 0:\n",
    "                cc = True\n",
    "                event = [current_time, CC, 0, 1]\n",
    "                eventlist.append(event)\n",
    "                \n",
    "            elif cc == True and msg.value == 0:\n",
    "                cc = False\n",
    "                event = [current_time, CC, 0, 0]\n",
    "                eventlist.append(event)\n",
    "                \n",
    "    eventlist = np.array(eventlist)\n",
    "    return eventlist\n",
    "\n",
    "index = np.random.randint(0, len(data_files))\n",
    "print(index)\n",
    "eventlist = get_eventlist(data_files[index])\n",
    "print(eventlist)"
   ]
  },
  {
   "cell_type": "markdown",
   "metadata": {},
   "source": [
    "### Midifile to EventListfile"
   ]
  },
  {
   "cell_type": "code",
   "execution_count": null,
   "metadata": {
    "scrolled": true
   },
   "outputs": [],
   "source": [
    "from tqdm import tqdm_notebook as tqdm\n",
    "import os\n",
    "\n",
    "dataset_dir = 'dataset'\n",
    "\n",
    "if not os.path.exists(dataset_dir):\n",
    "    os.makedirs(dataset_dir)\n",
    "\n",
    "for i in tqdm(range(len(data_files))):\n",
    "    print(data_files[i])\n",
    "    eventlist = get_eventlist(data_files[i])\n",
    "    print(eventlist.shape)\n",
    "    \n",
    "    save_file = dataset_dir + '/' + str(i)\n",
    "    data = {'eventlist': eventlist}\n",
    "    np.savez(save_file, **data, allow_pickle=False)"
   ]
  },
  {
   "cell_type": "code",
   "execution_count": null,
   "metadata": {},
   "outputs": [],
   "source": []
  }
 ],
 "metadata": {
  "kernelspec": {
   "display_name": "Python 3",
   "language": "python",
   "name": "python3"
  },
  "language_info": {
   "codemirror_mode": {
    "name": "ipython",
    "version": 3
   },
   "file_extension": ".py",
   "mimetype": "text/x-python",
   "name": "python",
   "nbconvert_exporter": "python",
   "pygments_lexer": "ipython3",
   "version": "3.7.5"
  }
 },
 "nbformat": 4,
 "nbformat_minor": 2
}
